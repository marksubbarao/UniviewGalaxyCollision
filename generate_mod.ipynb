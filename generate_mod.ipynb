{
 "cells": [
  {
   "cell_type": "markdown",
   "metadata": {},
   "source": [
    "# Galaxy Collisions\n",
    "\n",
    "This module will implinent a simple interactive galaxy collision module. We wil treat the galaxy collision as a restricted threebody problem. Early computer simulatons used the same trick."
   ]
  },
  {
   "cell_type": "code",
   "execution_count": 217,
   "metadata": {
    "collapsed": false,
    "scrolled": true
   },
   "outputs": [
    {
     "data": {
      "image/jpeg": "[encoded data removed]",
      "text/html": [
       "\n",
       "        <iframe\n",
       "            width=\"400\"\n",
       "            height=\"300\"\n",
       "            src=\"https://www.youtube.com/embed/zvXLWEd2ZGU\"\n",
       "            frameborder=\"0\"\n",
       "            allowfullscreen\n",
       "        ></iframe>\n",
       "        "
      ],
      "text/plain": [
       "<IPython.lib.display.YouTubeVideo at 0x1c5a6e10128>"
      ]
     },
     "execution_count": 217,
     "metadata": {},
     "output_type": "execute_result"
    }
   ],
   "source": [
    "from IPython.display import YouTubeVideo\n",
    "YouTubeVideo('zvXLWEd2ZGU')"
   ]
  },
  {
   "cell_type": "markdown",
   "metadata": {},
   "source": [
    "### Imports"
   ]
  },
  {
   "cell_type": "code",
   "execution_count": 218,
   "metadata": {
    "collapsed": true
   },
   "outputs": [],
   "source": [
    "#This directory contains all the data needed for the module. It should be in the same directory as the notebook\n",
    "dataFolder = \"data\" \n",
    "import sys, os, shutil, errno, string, urllib.request, math, copy\n",
    "\n",
    "sys.path.append(( os.path.abspath( os.path.join(os.path.realpath(\"__file__\"), os.pardir, os.pardir) )))\n",
    "import uvmodlib.v1 as uvmod"
   ]
  },
  {
   "cell_type": "code",
   "execution_count": 219,
   "metadata": {
    "collapsed": true
   },
   "outputs": [],
   "source": [
    "# Run this if you want to build in 3.0 rather than 2.0\n",
    "from config import Settings\n",
    "Settings.uvcustommodulelocation='C:\\\\Users\\\\msubbarao\\\\SCISS\\\\Uniview Theater 3.0\\\\Custom Modules'"
   ]
  },
  {
   "cell_type": "markdown",
   "metadata": {},
   "source": [
    "### USES Conf template and Uniform block for gravitating objects"
   ]
  },
  {
   "cell_type": "code",
   "execution_count": 220,
   "metadata": {
    "collapsed": true
   },
   "outputs": [],
   "source": [
    "gravsimTemplate =\\\n",
    "\"\"\"mesh\n",
    "{\n",
    "    glslVersion 400\n",
    "    cullRadius 100000\n",
    "    data sphere ./modules/$folderName/sphere.3ds\n",
    "    data quad  ./modules/$folderName/quad.3ds\n",
    "    data quad2  ./modules/$folderName/quad.3ds\n",
    "    data particles ./modules/$folderName/galCollision.uvstream\n",
    "    \n",
    "    propertyCollection\n",
    "    {\n",
    "        __objectName__\n",
    "        {\n",
    "            vec1f gravitationalStrength $gravitationalStrength | public\n",
    "            vec1f timeStep              $timeStep | public\n",
    "            vec1f massRatio             1.0 | public |\n",
    "            vec1f particleSize          $particleSize  | public\n",
    "            vec3f initialPosition       $initalPosition | public\n",
    "            vec3f particleColor         $particleColor | public | widget color_rgb\n",
    "            bool reset                  true | public\n",
    "            bool frozen                 false | public\n",
    "            bool corotating             true | public\n",
    "            vec1f incidentAngle         0. | public | widget slider | range -90 90 | desc \"The angle of approach for the second galaxy, a value of 0 is head-on\"\n",
    "            vec1f incomingSpeed         1 | public | desc \"The incoming speed of the second galaxy\"\n",
    "            vec1f incomingInclination   0 | public | widget slider | range -90 90 | desc \"The inclication of the incoming galaxy\"\n",
    "        }\n",
    "    }\n",
    "    \n",
    "    renderTexture\n",
    "    {\n",
    "        name                      dataTexture\n",
    "        width                     1024\n",
    "        height                    512\n",
    "        numTextures               1\n",
    "        isPingPong                true\n",
    "        isPersistent              true\n",
    "        isFramePersistent         true\n",
    "        internalTextureFormat     GL_RGB32F\n",
    "        magnify                   GL_NEAREST\n",
    "        minify                    GL_NEAREST\n",
    "    }\n",
    "\n",
    "    pass\n",
    "    {\n",
    "        useDataObject quad\n",
    "        renderTarget\n",
    "        {\n",
    "            name dataTexture\n",
    "            enableColorClear false\n",
    "        }\n",
    "        viewIndependent true\n",
    "\n",
    "        shader\n",
    "        {\n",
    "            type defaultMeshShader\n",
    "            {\n",
    "                vertexShader     ./modules/$folderName/pass0.vs\n",
    "                fragmentShader   ./modules/$folderName/pass0.fs\n",
    "                enable true\n",
    "                textureFBO dataTexture dataTexture\n",
    "                stateManagerVar __objectName__.gravitationalStrength gravitationalStrength\n",
    "                stateManagerVar __objectName__.massRatio  massRatio\n",
    "             \n",
    "                stateManagerVar __objectName__.initialPosition        initialPosition\n",
    "                stateManagerVar __objectName__.timestep        deltat\n",
    "                stateManagerVar __objectName__.reset        reset\n",
    "                stateManagerVar __objectName__.frozen        frozen\n",
    "                stateManagerVar __objectName__.incidentAngle   incidentAngle\n",
    "                stateManagerVar __objectName__.incomingSpeed   incomingSpeed\n",
    "                stateManagerVar __objectName__.corotating        isCorotating\n",
    "\n",
    "                stateManagerVar __objectName__.incomingInclination incomingInclination\n",
    "                \n",
    "                texture initTexture ./modules/$folderName/galParticles.png\n",
    "                {\n",
    "                    colorspace linear\n",
    "                }\n",
    "                \n",
    "                parameter1i dataTexWidth  1024\n",
    "\n",
    "                glState\n",
    "                {\n",
    "                    UV_BLEND_ENABLE false\n",
    "                    UV_DEPTH_ENABLE false\n",
    "                }\n",
    "            }\n",
    "        }\n",
    "    }\n",
    "\n",
    "\n",
    "    pass\n",
    "    {\n",
    "        useDataObject particles\n",
    "        passEnable false\n",
    "        shader\n",
    "        {\n",
    "            type defaultMeshShader\n",
    "            {\n",
    "                vertexShader     ./modules/$folderName/pass1.vs\n",
    "                fragmentShader   ./modules/$folderName/pass1.fs\n",
    "                geometryShader   ./modules/$folderName/pass1.gs\n",
    "                stateManagerVar __objectName__.particleSize particleSize\n",
    "                stateManagerVar __objectName__.massRatio  massRatio\n",
    "\n",
    "                textureFBO dataTexture dataTexture\n",
    "                \n",
    "                \n",
    "                stateManagerVar __objectName__.Alpha uv_alpha\n",
    "                stateManagerVar __objectName__.particleColor particleColor\n",
    "                stateManagerVar __objectName__.incidentAngle        incidentAngle\n",
    "                glState\n",
    "                {\n",
    "                    UV_CULL_FACE_ENABLE false\n",
    "                    UV_DEPTH_ENABLE false\n",
    "                    UV_BLEND_ENABLE true\n",
    "                    UV_BLEND_FUNC GL_SRC_ALPHA GL_ONE\n",
    "                }\n",
    "            }\n",
    "        }\n",
    "    }\n",
    "    \n",
    "#     pass\n",
    "#       passEnable true\n",
    " #       useDataObject quad2\n",
    "  #      shader\n",
    "   #     {\n",
    "    #       {\n",
    "     #           fragmentShader   ./modules/$folderName/velArrow.fs\n",
    "      #          geometryShader   ./modules/$folderName/velArrow.gs\n",
    "       #         vertexShader     ./modules/$folderName/vertex.glsl\n",
    "        #        stateManagerVar __objectName__.initialPosition        initialPosition\n",
    "         #       stateManagerVar __objectName__.reset        reset\n",
    "          #      stateManagerVar __objectName__.incidentAngle   incidentAngle\n",
    "           #     stateManagerVar __objectName__.incomingSpeed   incomingSpeed\n",
    "#\n",
    " #               glState\n",
    "  #              {\n",
    "   #                 UV_DEPTH_ENABLE false\n",
    "    #                UV_BLEND_ENABLE true\n",
    "     #               UV_BLEND_FUNC GL_SRC_ALPHA GL_ONE\n",
    "      #          }\n",
    "       #     }\n",
    "        #}\n",
    "#    }\n",
    "   \n",
    "    \n",
    "    \n",
    "}\"\"\"\n"
   ]
  },
  {
   "cell_type": "markdown",
   "metadata": {},
   "source": [
    "## Make UVstream"
   ]
  },
  {
   "cell_type": "code",
   "execution_count": 221,
   "metadata": {
    "collapsed": true
   },
   "outputs": [],
   "source": [
    "UVSTREAM='''<?xml version=\"1.0\" encoding=\"UTF-8\" standalone=\"no\"?>\n",
    "<DataStream version=\"0.1\">\n",
    "    <PrimitiveType>points</PrimitiveType>\n",
    "    <DataBindings>\n",
    "        <Variable>\n",
    "            <Name>i</Name>         \n",
    "            <Type>int</Type>\n",
    "        </Variable>          \n",
    "        <Variable>\n",
    "            <Name>j</Name>         \n",
    "            <Type>int</Type>\n",
    "        </Variable>                              \n",
    "    </DataBindings>\n",
    "\n",
    "    <CSVData>\n",
    "        <Path>galParticles.csv</Path>\n",
    "        <Headers>\n",
    "            <Variable>              \n",
    "                <Cols>0</Cols>\n",
    "            </Variable>\n",
    "            <Variable>              \n",
    "                <Cols>1</Cols>\n",
    "            </Variable>                     \n",
    "        </Headers>\n",
    "    </CSVData>\n",
    "</DataStream>  \n",
    "'''"
   ]
  },
  {
   "cell_type": "code",
   "execution_count": 222,
   "metadata": {
    "collapsed": true
   },
   "outputs": [],
   "source": [
    "uvStreamFile=open('data/galCollision.uvstream','w')\n",
    "uvStreamFile.write(UVSTREAM)\n",
    "uvStreamFile.close()"
   ]
  },
  {
   "cell_type": "markdown",
   "metadata": {},
   "source": [
    "### Class to generate the gravitational simulation object"
   ]
  },
  {
   "cell_type": "code",
   "execution_count": 223,
   "metadata": {
    "collapsed": true
   },
   "outputs": [],
   "source": [
    "class GravSim():\n",
    "    def __init__(self,object):\n",
    "        self.object = object\n",
    "        self.gravitationalStrength = \"UNINITIALIZED\"\n",
    "        self.timeStep = \"UNINITIALIZED\"\n",
    "        self.particleSize = \"UNINITIALIZED\"\n",
    "        self.particleColor = \"UNINITIALIZED\"\n",
    "        self.texWidth = 1\n",
    "        self.texHeight = 1\n",
    "        self.simulationScene = \"UNINITIALIZED\"\n",
    "        self.numParticles = \"UNINITIALIZED\"\n",
    "        self.outOfBoundsRaidus =\"UNINITIALIZED\"\n",
    "        self.initalPosition = \"UNINITIALIZED\"\n",
    "        self.initalVelocityDir = \"UNINITIALIZED\"\n",
    "        self.initalVelocityMin = \"UNINITIALIZED\"\n",
    "        self.initalVelocityMax = \"UNINITIALIZED\"\n",
    "        self.numSimSteps = 10\n",
    "    def setGravitationalStrength(self, gravitationalStrength):\n",
    "        self.gravitationalStrength = gravitationalStrength\n",
    "    def setTimeStep(self, timeStep):\n",
    "        self.timeStep = timeStep\n",
    "    def setParticleSize(self, particleSize):\n",
    "        self.particleSize = particleSize\n",
    "    def setParticleColor(self, particleColor):\n",
    "        self.particleColor = ' '.join(str(c) for c in particleColor)\n",
    "    def setNumParticles(self, numParticles):\n",
    "        self.numParticles = numParticles\n",
    "        self.texHeight = max(int(math.ceil(math.sqrt(numParticles))),16)\n",
    "        self.texWidth = 2*self.texHeight\n",
    "    def setInitalPosition(self, initalPosition):\n",
    "        self.initalPosition = ' '.join(str(c) for c in initalPosition)\n",
    "    def setInitalVelocityDir(self, initalVelocityDir):\n",
    "        self.initalVelocityDir = ' '.join(str(c) for c in initalVelocityDir)\n",
    "    def setInitalVelocityMin(self, initalVelocityMin):\n",
    "        self.initalVelocityMin = initalVelocityMin\n",
    "    def setInitalVelocityMax(self, initalVelocityMax):\n",
    "        self.initalVelocityMax = initalVelocityMax\n",
    "    def generatemod(self):\n",
    "        self.object.setgeometry(self.object.name+\"Mesh.usesconf\")\n",
    "        return self.object.generatemod()\n",
    "    def generatefiles(self, absOutDir, relOutDir):\n",
    "        fileName = self.object.name+\"Mesh.usesconf\"\n",
    "        template = string.Template(gravsimTemplate)\n",
    "        outfile = open(absOutDir+\"//\"+fileName, \"w\")\n",
    "        outfile.write(template.substitute(folderName = relOutDir,\n",
    "                                          gravitationalStrength = self.gravitationalStrength,\n",
    "                                          timeStep = self.timeStep,\n",
    "                                          particleSize  = self.particleSize,\n",
    "                                          particleColor = self.particleColor,\n",
    "                                          texWidth = self.texWidth,\n",
    "                                          texHeight = self.texHeight,\n",
    "                                          initalPosition = self.initalPosition,\n",
    "                                          initalVelocityDir = self.initalVelocityDir,\n",
    "                                          initalVelocityMin = self.initalVelocityMin,\n",
    "                                          initalVelocityMax = self.initalVelocityMax,\n",
    "                                          simulationScene = self.object.coord,\n",
    "                                          numParticles = self.numParticles,\n",
    "                                          numSimSteps = self.numSimSteps))\n",
    "        outfile.close()\n",
    "        uvmod.Utility.copyfoldercontents(dataFolder,absOutDir)\n",
    "        uniformDeclerations = \"\"\n",
    "        collisionDetection = \"\"\n",
    "        accelerationCalculation = \"\"\n",
    "        initGravPotential = \"\"\n",
    "        subCurrGravPotential = \"\""
   ]
  },
  {
   "cell_type": "markdown",
   "metadata": {},
   "source": [
    "### Instantiating Objects"
   ]
  },
  {
   "cell_type": "code",
   "execution_count": 224,
   "metadata": {
    "collapsed": true
   },
   "outputs": [],
   "source": [
    "model = GravSim(uvmod.OrbitalObject())\n",
    "modinfo = uvmod.ModuleInformation()\n",
    "g = uvmod.Generator()\n",
    "#f = uvmod.ForwardingObject()"
   ]
  },
  {
   "cell_type": "code",
   "execution_count": 225,
   "metadata": {
    "collapsed": false
   },
   "outputs": [
    {
     "name": "stdout",
     "output_type": "stream",
     "text": [
      "Unable to connect to Uniview\n",
      "Unable to connect to Uniview\n"
     ]
    }
   ],
   "source": [
    "model.object.setname(\"GalaxyCollision\")\n",
    "model.object.setcoord(\"SolarSystem\")\n",
    "model.object.setcameraradius(1)\n",
    "model.object.settargetradius(15000)\n",
    "model.object.setguiname(\"/Galaxy Collision\")\n",
    "model.setGravitationalStrength(10000.)\n",
    "model.setParticleColor((0.15,1,1))\n",
    "model.setParticleSize(12)\n",
    "model.setTimeStep(5.0)\n",
    "\n",
    "model.setInitalPosition((7500,0,0))\n",
    "model.setInitalVelocityDir((-.7,.7,0))\n",
    "model.setInitalVelocityMin(0)\n",
    "model.setInitalVelocityMax(0.05)\n",
    "\n",
    "\n",
    "modinfo.setauthor(\"Jeffrey SubbaRao<br />SCISS AB\")\n",
    "modinfo.setdesc(\"A simulation of multiple particle with different inital velocities influenced by the gravity of the Sun, Earth, Moon and Jupiter\")\n",
    "modinfo.setname(\"Galaxy Collision\")\n",
    "modinfo.setthumbnail(\"particlesimulation.png\")\n",
    "modinfo.setversion(\"1.0\")\n",
    "\n",
    "g.generate(\"GalaxyCollision\",[],[model],modinfo)\n",
    "uvmod.Utility.senduvcommand(\"system.reloadallshaders\")\n",
    "uvmod.Utility.senduvcommand(model.object.name+\".reload\")"
   ]
  },
  {
   "cell_type": "code",
   "execution_count": null,
   "metadata": {
    "collapsed": true
   },
   "outputs": [],
   "source": []
  },
  {
   "cell_type": "code",
   "execution_count": null,
   "metadata": {
    "collapsed": true
   },
   "outputs": [],
   "source": []
  },
  {
   "cell_type": "code",
   "execution_count": null,
   "metadata": {
    "collapsed": true
   },
   "outputs": [],
   "source": []
  }
 ],
 "metadata": {
  "anaconda-cloud": {},
  "kernelspec": {
   "display_name": "Python [default]",
   "language": "python",
   "name": "python3"
  },
  "language_info": {
   "codemirror_mode": {
    "name": "ipython",
    "version": 3
   },
   "file_extension": ".py",
   "mimetype": "text/x-python",
   "name": "python",
   "nbconvert_exporter": "python",
   "pygments_lexer": "ipython3",
   "version": "3.5.2"
  }
 },
 "nbformat": 4,
 "nbformat_minor": 1
}
