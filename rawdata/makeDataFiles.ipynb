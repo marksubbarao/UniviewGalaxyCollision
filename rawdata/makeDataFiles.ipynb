{
 "cells": [
  {
   "cell_type": "markdown",
   "metadata": {},
   "source": [
    "# Generate galaxy sim particles"
   ]
  },
  {
   "cell_type": "code",
   "execution_count": 14,
   "metadata": {
    "collapsed": false
   },
   "outputs": [],
   "source": [
    "import random\n",
    "Ngen = 200000\n",
    "thinHeight =0.05\n",
    "writeFile=open('galParticles.csv','w')\n",
    "#write data for the two Galaxy Centers\n",
    "# Format will be x,y,z,hasGravity,whichGal,id\n",
    "writeFile.write('0,0,0,1,0,0\\n')\n",
    "writeFile.write('0,0,0,1,1,1\\n')\n",
    "hasGravity=0\n",
    "#write data for the massless particles\n",
    "i=1\n",
    "for j in range(Ngen):\n",
    "    x=2.0*random.random()-1.;\n",
    "    y=2.0*random.random()-1.;\n",
    "    z=thinHeight*(2.0*random.random()-1.);\n",
    "    if (x*x+y*y<1.0):\n",
    "        i=i+1\n",
    "        if (i>Ngen/2):\n",
    "            whichGal=1\n",
    "        else:\n",
    "            whichGal =0\n",
    "        writeFile.write('{: 0.6f},{: 0.6f},{: 0.6f},{},{},{}\\n'.format(x,y,z,hasGravity,whichGal,i))\n",
    "writeFile.close()\n",
    "        \n",
    "    \n",
    "    "
   ]
  },
  {
   "cell_type": "code",
   "execution_count": 5,
   "metadata": {
    "collapsed": false
   },
   "outputs": [
    {
     "data": {
      "text/plain": [
       "<function Random.random>"
      ]
     },
     "execution_count": 5,
     "metadata": {},
     "output_type": "execute_result"
    }
   ],
   "source": [
    "import random\n",
    "random.random"
   ]
  },
  {
   "cell_type": "code",
   "execution_count": 8,
   "metadata": {
    "collapsed": false
   },
   "outputs": [
    {
     "data": {
      "text/plain": [
       "0.519210034142673"
      ]
     },
     "execution_count": 8,
     "metadata": {},
     "output_type": "execute_result"
    }
   ],
   "source": [
    "random.random()"
   ]
  },
  {
   "cell_type": "code",
   "execution_count": 2,
   "metadata": {
    "collapsed": true
   },
   "outputs": [],
   "source": [
    "from PIL import Image\n",
    "import math"
   ]
  },
  {
   "cell_type": "code",
   "execution_count": 8,
   "metadata": {
    "collapsed": false
   },
   "outputs": [],
   "source": [
    "im=Image.new(\"RGBA\",(512,512))\n",
    "for i in range (512):\n",
    "    for j in range(512):\n",
    "        a = random.random() * 2 * 3.1415926\n",
    "        r = math.pow(random.random(),3.0)\n",
    "        x = r * math.cos(a)\n",
    "        y = r * math.sin(a)\n",
    "        z=random.random()\n",
    "        alp=random.random()\n",
    "        red = int(128.*(x+1.))\n",
    "        green = int(128.*(y+1.))\n",
    "        blue = int(256.*z)\n",
    "        alpha = int(256.*alp)\n",
    "        im.putpixel((j,i),(red,green,blue,alpha))\n",
    "#first two pixels are galaxy centers\n",
    "im.putpixel((0,0),(128,128,128))\n",
    "im.putpixel((0,1),(128,128,128))\n",
    "im.save(\"galParticles.png\")      "
   ]
  },
  {
   "cell_type": "code",
   "execution_count": 24,
   "metadata": {
    "collapsed": true
   },
   "outputs": [],
   "source": [
    "writeFile=open('galParticles.csv','w')\n",
    "for i in range(512):\n",
    "    for j in range(512):\n",
    "        writeFile.write('{},{}\\n'.format(i,j))"
   ]
  },
  {
   "cell_type": "code",
   "execution_count": null,
   "metadata": {
    "collapsed": true
   },
   "outputs": [],
   "source": []
  }
 ],
 "metadata": {
  "anaconda-cloud": {},
  "kernelspec": {
   "display_name": "Python [conda env:Anaconda3]",
   "language": "python",
   "name": "conda-env-Anaconda3-py"
  },
  "language_info": {
   "codemirror_mode": {
    "name": "ipython",
    "version": 3
   },
   "file_extension": ".py",
   "mimetype": "text/x-python",
   "name": "python",
   "nbconvert_exporter": "python",
   "pygments_lexer": "ipython3",
   "version": "3.5.2"
  }
 },
 "nbformat": 4,
 "nbformat_minor": 1
}
